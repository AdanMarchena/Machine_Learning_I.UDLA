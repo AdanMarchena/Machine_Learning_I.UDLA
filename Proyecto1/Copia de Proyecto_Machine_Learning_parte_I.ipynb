{
 "cells": [
  {
   "cell_type": "markdown",
   "metadata": {
    "id": "Jb9sJjH7D_NO"
   },
   "source": [
    "# Proyecto: Exploración y Propuesta de Problema con Machine Learning no supervisado\n",
    "\n",
    " **Objetivo de esta primera etapa**:\n",
    "Identificar una fuente de datos confiable y proponer un problema relevante que pueda ser resuelto utilizando técnicas de Machine Learning no supervisado, justificando su importancia y viabilidad."
   ]
  },
  {
   "cell_type": "markdown",
   "metadata": {
    "id": "g9vJdo-SERMA"
   },
   "source": [
    "##🧩 Parte 1: Exploración de datasets y problemas\n",
    "\n",
    "**Paso 1**: Investigar fuentes de datos abiertos\n",
    "Explora al menos dos sitios de datasets reconocidos para Deep Learning:\n",
    "\n",
    "https://www.kaggle.com/datasets\n",
    "\n",
    "https://huggingface.co/datasets\n",
    "\n",
    "https://data.gov/ (para datos públicos y gubernamentales)\n",
    "\n",
    "https://archive.ics.uci.edu/ml/index.php (UCI Machine Learning Repository)\n",
    "\n",
    "https://paperswithcode.com/datasets"
   ]
  },
  {
   "cell_type": "markdown",
   "metadata": {
    "id": "pxFtGgfPEWBO"
   },
   "source": [
    "**Instrucciones:**\n",
    "\n",
    "Revisa al menos 10 datasets.\n",
    "\n",
    "Anota sus características principales: tipo de datos, tamaño, dominio (imagen, texto, audio, series temporales, etc.), etiquetas, formato de archivos."
   ]
  },
  {
   "cell_type": "markdown",
   "metadata": {
    "id": "54cI4omMEnXx"
   },
   "source": [
    "**Paso 2**: Elegir 3 datasets de interés (texto, datos tabulares e imagen).\n",
    "\n",
    "Para cada uno:\n",
    "\n",
    "\n",
    "\n",
    "*   Resume en 1 párrafo el contenido de los dataset.\n",
    "*   Menciona posibles problemas del mundo real que podrías resolver con ese dataset usando modelos de aprendizaje no supervisado.\n",
    "*   Indica qué tipo de aprendizaje no supervisado que usarías (ej: K-means, PCA, etc.) y por qué.\n",
    "*   Menciona potenciales desafíos (datos faltantes, desbalance de clases, complejidad computacional, etc.)\n",
    "\n",
    "\n",
    "\n",
    "\n",
    "\n",
    "\n",
    "\n",
    "\n",
    "\n"
   ]
  },
  {
   "cell_type": "markdown",
   "metadata": {
    "id": "iACXwZx4E_IJ"
   },
   "source": [
    "## 🧠 Parte 2: Propuesta de proyecto\n",
    "A partir de los datasets explorados responde para cada dataset (1 dataset de texto, 1 dataset de datos tabulares y 1 dataset de datos de imagenes):\n",
    "\n",
    "¿Qué problema concreto resolverás? ¿Por qué es relevante?\n",
    "\n",
    "\n",
    "¿Qué tipo de modelo de aprendizaje no supervisado usaras usarías inicialmente, escoger al menos 2 vistos en clase y 2 no vistos en clase? Explicar teoricamente como funciona el modelo y los algoritmos usados por cada método.\n",
    "\n",
    "¿Qué métrica de evaluación utilizarás y por qué?\n",
    "\n",
    "¿Quiénes serían los usuarios o beneficiarios del modelo?\n",
    "\n",
    "¿Qué esperas lograr con tu modelo? (clasificar, predecir, segmentar, etc.)\n",
    "\n",
    "¿Qué herramientas planeas usar? (PyTorch, TensorFlow, Keras, etc.)"
   ]
  },
  {
   "cell_type": "markdown",
   "metadata": {
    "id": "KNdCccroFIRp"
   },
   "source": [
    "## 📤 Entrega (Semana 1–2): fecha límite sábado 18 de octubre de 2025, hora 08:30 am\n",
    "Formato sugerido:\n",
    "\n",
    "Un documento PDF o presentación (máx. 5 diapositivas) con:\n",
    "\n",
    "Breve resumen de los datasets explorados\n",
    "\n",
    "Problemas identificados\n",
    "\n",
    "Justificación del dataset y problema seleccionado\n",
    "\n",
    "Propuesta inicial de abordaje con aprendizaje no supervisado\n",
    "\n",
    "También puede ser entregado como un notebook de Colab con celdas de texto + visualizaciones básicas de los datos si están disponibles."
   ]
  },
  {
   "cell_type": "markdown",
   "metadata": {
    "id": "Fp4nEUHjFN9z"
   },
   "source": [
    "## 🎓 Criterios de evaluación\n",
    "\n",
    "| Criterio                                             | Puntaje |\n",
    "| ---------------------------------------------------- | ------- |\n",
    "| Claridad y profundidad en la exploración de datasets | 20%     |\n",
    "| Relevancia y justificación del problema propuesto    | 25%     |\n",
    "| Viabilidad técnica de la propuesta                   | 25%     |\n",
    "| Originalidad y conexión con aplicaciones reales      | 15%     |\n",
    "| Presentación y orden del entregable                  | 15%     |\n"
   ]
  }
 ],
 "metadata": {
  "colab": {
   "provenance": [
    {
     "file_id": "1oSC2z7alvVQqLAZdQlWAgbqNUr0WxWWS",
     "timestamp": 1759972873796
    }
   ]
  },
  "kernelspec": {
   "display_name": "Python 3 (ipykernel)",
   "language": "python",
   "name": "python3"
  },
  "language_info": {
   "codemirror_mode": {
    "name": "ipython",
    "version": 3
   },
   "file_extension": ".py",
   "mimetype": "text/x-python",
   "name": "python",
   "nbconvert_exporter": "python",
   "pygments_lexer": "ipython3",
   "version": "3.12.6"
  }
 },
 "nbformat": 4,
 "nbformat_minor": 4
}
