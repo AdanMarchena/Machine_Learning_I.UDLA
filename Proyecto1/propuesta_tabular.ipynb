{
 "cells": [
  {
   "cell_type": "markdown",
   "id": "3fc1d581-1cc1-40d4-8a64-4841b9e8b609",
   "metadata": {},
   "source": [
    "# Propuesta Dataset tabular\n",
    "\n",
    "**Datasets seleccionado:** covertype\n",
    "\n",
    "**Url:** https://huggingface.co/datasets/polinaeterna/tabular-benchmark\n"
   ]
  },
  {
   "cell_type": "code",
   "execution_count": 1,
   "id": "5e25cdd3-a258-4e6f-847e-feb2bb70930f",
   "metadata": {},
   "outputs": [],
   "source": [
    "# Librerías\n",
    "import pandas as pd"
   ]
  },
  {
   "cell_type": "code",
   "execution_count": 2,
   "id": "a076f1b7-3383-48f3-87a1-5bded11e0651",
   "metadata": {},
   "outputs": [],
   "source": [
    "df = pd.read_csv(\"hf://datasets/polinaeterna/tabular-benchmark/clf_cat/covertype.csv\")"
   ]
  },
  {
   "cell_type": "markdown",
   "id": "bd13974a-da6d-4757-81a9-dda00eef7ed0",
   "metadata": {},
   "source": [
    "**1. ¿Qué problema concreto resolverás? ¿Por qué es relevante?**\n",
    "\n",
    "El objetivo de utilizar este dataset es identificar regiones con características ecológicas similares mediante técnicas de agrupamiento no supervisado. Esta clasificación permitiría analizar cómo varían las condiciones del terreno y la vegetación en diferentes zonas, facilitando la detección de cambios ambientales a lo largo del tiempo. Comprender estos patrones es relevante porque aporta información útil para el monitoreo de ecosistemas, la gestión forestal y el estudio del impacto del cambio climático sobre distintas regiones naturales."
   ]
  },
  {
   "cell_type": "markdown",
   "id": "a3d0cb37-9fa4-4ac4-9750-a8790cc03aea",
   "metadata": {},
   "source": [
    "**¿Qué tipo de modelo de aprendizaje no supervisado usarás inicialmente? escoger al menos 2 vistos en clase y 2 no vistos en clase? Explicar teóricamente como funciona el modelo y los algoritmos usados por cada método.**\n",
    "\n",
    "Para el análisis del dataset Covertype se propone aplicar cuatro modelos de aprendizaje no supervisado, combinando dos métodos vistos en clase y dos no vistos:\n",
    "\n",
    "**Modelos vistos en clase**\n",
    "\n",
    "- K-Means\n",
    "    - Tipo de modelo: Algoritmo de clustering basado en particiones.\n",
    "    - Funcionamiento teórico: K-Means busca dividir el conjunto de datos en k grupos o clústeres, de manera que los puntos dentro de un mismo grupo sean lo más similares posible entre sí y lo más diferentes posible de los otros grupos.\n",
    "El algoritmo comienza eligiendo k centroides aleatorios y asigna cada punto al centro más cercano. Luego recalcula los centroides como el promedio de los puntos de cada grupo y repite el proceso hasta que las asignaciones no cambian significativamente.\n",
    "        - Ventajas: Simple, rápido y escalable.\n",
    "        - Limitaciones: Supone que los clústeres son esféricos y de tamaño similar.\n",
    "\n",
    "- PCA (Análisis de Componentes Principales)\n",
    "    - Tipo de modelo: Método de reducción de dimensionalidad.\n",
    "    - Funcionamiento teórico: PCA transforma los datos originales en un nuevo sistema de coordenadas en el que las dimensiones (componentes principales) capturan la mayor varianza posible.\n",
    "Lo logra mediante una descomposición matemática de la matriz de covarianza, obteniendo autovectores (direcciones principales) y autovalores (cantidad de varianza explicada por cada dirección).\n",
    "        - Ventajas: Reduce ruido y facilita la visualización de datos multidimensionales.\n",
    "        - Limitaciones: Solo capta relaciones lineales.\n",
    "\n",
    "**Modelos no vistos en clase**\n",
    "\n",
    "- DBSCAN (Density-Based Spatial Clustering of Applications with Noise)\n",
    "    - Tipo de modelo: Algoritmo de clustering basado en densidad.\n",
    "    - Funcionamiento teórico: DBSCAN agrupa puntos que se encuentran densamente conectados entre sí y marca como ruido aquellos que no pertenecen a ninguna región densa.\n",
    "    - Usa dos parámetros principales:\n",
    "        - ε (epsilon): distancia máxima entre dos puntos para considerarlos vecinos.\n",
    "        - minPts: número mínimo de puntos requeridos para formar una región densa.\n",
    "        - Ventajas: Detecta clústeres de forma arbitraria y maneja bien el ruido.\n",
    "        - Limitaciones: Sensible a los parámetros ε y minPts.\n",
    "\n",
    "- Gaussian Mixture Model (GMM)\n",
    "    - Tipo de modelo: Clustering probabilístico basado en mezcla de distribuciones.\n",
    "    - Funcionamiento teórico: GMM asume que los datos provienen de una combinación (mezcla) de varias distribuciones gaussianas, cada una representando un clúster.\n",
    "Utiliza el algoritmo Expectation-Maximization (EM) para estimar los parámetros de cada distribución (media, varianza y peso). Cada punto obtiene una probabilidad de pertenecer a cada clúster.\n",
    "        - Ventajas: Permite clústeres de distintas formas y tamaños.\n",
    "        - Limitaciones: Más costoso computacionalmente y sensible a la inicialización."
   ]
  },
  {
   "cell_type": "markdown",
   "id": "f2b3c2d4-2702-4d23-a7f2-9231ea7346f5",
   "metadata": {},
   "source": [
    "**¿Qué métrica de evaluación utilizarás y por qué?**\n",
    "\n",
    "Dado que se aplicarán modelos de aprendizaje no supervisado, se utilizarán principalmente métricas internas para evaluar la calidad del agrupamiento, es decir, medidas que no dependen de etiquetas externas.\n",
    "\n",
    "- Índice de Silhouette: Mide la cohesión y separación de los clústeres. Cada punto obtiene una puntuación entre -1 y 1, donde valores cercanos a 1 indican que está bien asignado a su grupo y alejado de los demás.\n",
    "Esta métrica es apropiada porque el dataset tiene múltiples variables numéricas y se desea verificar si los clústeres obtenidos son compactos y bien definidos.\n",
    "\n",
    "- Índice de Calinski-Harabasz: Evalúa la relación entre la dispersión intra-clúster e inter-clúster. Cuanto mayor sea el valor, mejor es la separación entre los grupos.\n",
    "Se recomienda por su bajo costo computacional y su buen comportamiento con conjuntos de datos de gran tamaño, como Covertype.\n",
    "\n",
    "Adicionalmente, si se desea contrastar los resultados con las etiquetas de tipo de cobertura forestal disponibles en el dataset, se puede emplear una métrica externa como el Adjusted Rand Index (ARI), que mide el grado de similitud entre los clústeres obtenidos y las clases reales, ajustando por coincidencias aleatorias."
   ]
  },
  {
   "cell_type": "markdown",
   "id": "4f0315ad-3072-49d2-96c4-4f6baa1d16dc",
   "metadata": {},
   "source": [
    "**¿Quiénes serían los usuarios o beneficiarios del modelo?**\n",
    "\n",
    "Los principales beneficiarios del modelo serían instituciones y profesionales vinculados a la gestión ambiental y los recursos naturales, tales como organismos gubernamentales de protección ambiental, investigadores en ecología, geógrafos, ingenieros forestales y empresas dedicadas a la explotación sustentable del suelo.\n",
    "\n",
    "El modelo permitiría identificar zonas con características ecológicas similares, lo que facilitaría la planificación del uso del territorio, el seguimiento de cambios en la cobertura vegetal, y la detección temprana de alteraciones derivadas del cambio climático o de la actividad humana. Además, los resultados podrían integrarse en sistemas de información geográfica (SIG) para apoyar la toma de decisiones basada en datos."
   ]
  },
  {
   "cell_type": "markdown",
   "id": "03a5fe45-3d9e-4430-a5e7-5745c82bd82f",
   "metadata": {},
   "source": [
    "**¿Qué esperas lograr con tu modelo? (clasificar, predecir, segmentar, etc.)**\n",
    "\n",
    "El objetivo principal del modelo es segmentar las regiones ecológicas según sus características ambientales, como tipo de suelo, elevación, pendiente, orientación y cobertura vegetal.\n",
    "A través del uso de técnicas de aprendizaje no supervisado, se busca agrupar zonas con comportamientos y condiciones similares, lo que permitirá analizar patrones ecológicos y comparar cómo evolucionan diferentes áreas ante factores climáticos o de intervención humana.\n",
    "\n",
    "En resumen, el modelo pretende descubrir estructuras naturales en los datos que ayuden a comprender la dinámica ecológica del terreno y sirvan de base para estudios de cambio ambiental y planificación territorial."
   ]
  },
  {
   "cell_type": "markdown",
   "id": "5bc4296a-1b8a-4458-8b2b-38e846b3550a",
   "metadata": {},
   "source": [
    "**¿Qué herramientas planeas usar? (PyTorch, TensorFlow, Keras, etc.)**\n",
    "\n",
    "Para el desarrollo del proyecto se utilizarán principalmente las librerías de Python orientadas al análisis de datos y aprendizaje no supervisado. En particular:\n",
    "\n",
    "Scikit-learn: para aplicar algoritmos de clustering (K-means, DBSCAN, Gaussian Mixture Models) y reducción de dimensionalidad (PCA).\n",
    "\n",
    "Pandas y NumPy: para la manipulación, limpieza y análisis de los datos.\n",
    "\n",
    "Matplotlib y Seaborn: para la visualización de distribuciones y resultados de agrupamiento.\n",
    "\n",
    "Streamlit: para crear una interfaz interactiva que permita explorar los resultados y visualizar cómo se agrupan las regiones ecológicas según sus características.\n",
    "\n",
    "(Opcionalmente) Plotly: para visualizaciones 3D de los clústeres o componentes principales.\n",
    "\n",
    "Estas herramientas ofrecen una combinación ideal de flexibilidad, interpretabilidad y facilidad de implementación, lo que permitirá centrarse en el análisis y comprensión de los patrones ecológicos más que en la programación de bajo nivel."
   ]
  },
  {
   "cell_type": "code",
   "execution_count": null,
   "id": "7546a709-c4e1-4812-9f9f-667af37a6a31",
   "metadata": {},
   "outputs": [],
   "source": []
  }
 ],
 "metadata": {
  "kernelspec": {
   "display_name": "Python (venv-6)",
   "language": "python",
   "name": "venv-6"
  },
  "language_info": {
   "codemirror_mode": {
    "name": "ipython",
    "version": 3
   },
   "file_extension": ".py",
   "mimetype": "text/x-python",
   "name": "python",
   "nbconvert_exporter": "python",
   "pygments_lexer": "ipython3",
   "version": "3.12.6"
  }
 },
 "nbformat": 4,
 "nbformat_minor": 5
}
